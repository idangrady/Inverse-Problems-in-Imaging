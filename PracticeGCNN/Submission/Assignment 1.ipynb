{
  "cells": [
    {
      "attachments": {},
      "cell_type": "markdown",
      "metadata": {},
      "source": [
        "## Assignment 1\n",
        "\n",
        "### Name: Idan Grady\n",
        "### Student Number 1912976"
      ]
    },
    {
      "cell_type": "markdown",
      "metadata": {
        "id": "xli60RAMCDL4"
      },
      "source": [
        "# Part I. Preparation\n",
        "\n",
        "First, we load the CIFAR-10 dataset. This might take a couple minutes the first time you do it, but the files should stay cached after that.\n",
        "\n",
        "In previous parts of the assignment we had to write our own code to use the MNIST dataset, preprocess it, and iterate through it in minibatches; PyTorch provides convenient tools to automate this process for us."
      ]
    },
    {
      "cell_type": "code",
      "execution_count": 1,
      "metadata": {
        "id": "Pnd2OsZtCDL5"
      },
      "outputs": [
        {
          "name": "stderr",
          "output_type": "stream",
          "text": [
            "d:\\New folder\\lib\\site-packages\\torchvision\\io\\image.py:11: UserWarning: Failed to load image Python extension: [WinError 126] The specified module could not be found\n",
            "  warn(f\"Failed to load image Python extension: {e}\")\n"
          ]
        }
      ],
      "source": [
        "import torch\n",
        "import torch.nn as nn\n",
        "import torch.optim as optim\n",
        "from torch.utils.data import DataLoader\n",
        "from torch.utils.data import sampler\n",
        "\n",
        "import torchvision.datasets as dset\n",
        "import torchvision.transforms as T\n",
        "\n",
        "import matplotlib.pyplot as plt\n",
        "\n",
        "import numpy as np\n",
        "\n",
        "import torch.nn.functional as F  # functional versions of the modules in torch.nn\n",
        "from torch.utils.data import DataLoader\n",
        "import matplotlib.pyplot as plt\n",
        "from tqdm import tqdm\n",
        "import cv2\n",
        "from torchvision import transforms\n",
        "from torchvision.transforms import ToPILImage\n",
        "import torch\n",
        "import torch.nn as nn\n",
        "import torch.optim as optim\n",
        "import torchvision\n",
        "import torchvision.transforms as transforms\n",
        "# matplotlib\n",
        "import matplotlib.pyplot as plt\n",
        "import multiprocessing as mp\n",
        "import torch.nn.init as init\n",
        "import numpy as np\n",
        "\n",
        "from IPython.display import Image\n",
        "\n",
        "\n",
        "TRAIN = False\n"
      ]
    },
    {
      "cell_type": "code",
      "execution_count": 2,
      "metadata": {
        "id": "ypi4DSSbCDL6",
        "scrolled": true
      },
      "outputs": [
        {
          "name": "stdout",
          "output_type": "stream",
          "text": [
            "Files already downloaded and verified\n",
            "Files already downloaded and verified\n",
            "Files already downloaded and verified\n"
          ]
        }
      ],
      "source": [
        "NUM_TRAIN = 49000\n",
        "\n",
        "# The torchvision.transforms package provides tools for preprocessing data\n",
        "# and for performing data augmentation; here we set up a transform to\n",
        "# preprocess the data by subtracting the mean RGB value and dividing by the\n",
        "# standard deviation of each RGB value; we've hardcoded the mean and std.\n",
        "transform = T.Compose([\n",
        "                T.ToTensor(),\n",
        "                T.Normalize((0.4914, 0.4822, 0.4465), (0.2023, 0.1994, 0.2010))\n",
        "            ])\n",
        "\n",
        "# We set up a Dataset object for each split (train / val / test); Datasets load\n",
        "# training examples one at a time, so we wrap each Dataset in a DataLoader which\n",
        "# iterates through the Dataset and forms minibatches. We divide the CIFAR-10\n",
        "# training set into train and val sets by passing a Sampler object to the\n",
        "# DataLoader telling how it should sample from the underlying Dataset.\n",
        "cifar10_train = dset.CIFAR10('./assets/datasets', train=True, download=True,\n",
        "                             transform=transform)\n",
        "loader_train = DataLoader(cifar10_train, batch_size=64, \n",
        "                          sampler=sampler.SubsetRandomSampler(range(NUM_TRAIN)))\n",
        "\n",
        "cifar10_val = dset.CIFAR10('./assets/datasets', train=True, download=True,\n",
        "                           transform=transform)\n",
        "loader_val = DataLoader(cifar10_val, batch_size=64, \n",
        "                        sampler=sampler.SubsetRandomSampler(range(NUM_TRAIN, 50000)))\n",
        "\n",
        "cifar10_test = dset.CIFAR10('./assets/datasets', train=False, download=True, \n",
        "                            transform=transform)\n",
        "loader_test = DataLoader(cifar10_test, batch_size=64)"
      ]
    },
    {
      "cell_type": "markdown",
      "metadata": {
        "id": "iZPlYJFlCDL6"
      },
      "source": [
        "You have an option to **use GPU by setting the flag to True below**. It is not necessary to use GPU for this assignment, but you can still do so if you desire. In Google Colab, go to Runtime -> Change runtime type -> hardware accelarator --> GPU. Note that if you use it locally and your computer does not have CUDA enabled, `torch.cuda.is_available()` will return False and this notebook will fallback to CPU mode.\n",
        "\n",
        "The global variables `dtype` and `device` will control the data types throughout this assignment. "
      ]
    },
    {
      "cell_type": "code",
      "execution_count": 3,
      "metadata": {
        "id": "tjCXJ96CCDL6"
      },
      "outputs": [
        {
          "name": "stdout",
          "output_type": "stream",
          "text": [
            "Using device: cuda\n",
            "'cuda' means we are using GPU(s), 'cpu' means we are only using CPU.\n"
          ]
        }
      ],
      "source": [
        "USE_GPU = True\n",
        "\n",
        "dtype = torch.float32 # we will be using float throughout this tutorial\n",
        "\n",
        "if USE_GPU and torch.cuda.is_available():\n",
        "    device = torch.device('cuda')\n",
        "else:\n",
        "    device = torch.device('cpu')\n",
        "\n",
        "# Constant to control how frequently we print train loss\n",
        "print_every = 100\n",
        "\n",
        "print(f\"Using device: {device}\\n'cuda' means we are using GPU(s), 'cpu' means we are only using CPU.\")"
      ]
    },
    {
      "cell_type": "markdown",
      "metadata": {
        "id": "mWzDPwspCDL7"
      },
      "source": [
        "# Part II. Barebones PyTorch\n",
        "\n",
        "PyTorch ships with high-level APIs to help us define model architectures conveniently, which we will cover in Part II of this tutorial. In this section, we will start with the barebone PyTorch elements to understand the autograd engine better. After this exercise, you will come to appreciate the high-level model API more.\n",
        "\n",
        "We will start with a simple fully-connected ReLU network with two hidden layers and no biases for CIFAR classification. \n",
        "This implementation computes the forward pass using operations on PyTorch Tensors, and uses PyTorch autograd to compute gradients. It is important that you understand every line, because you will write a harder version after the example.\n",
        "\n",
        "When we create a PyTorch Tensor with `requires_grad=True`, then operations involving that Tensor will not just compute values; they will also build up a computational graph in the background, allowing us to easily backpropagate through the graph to compute gradients of some Tensors with respect to a downstream loss. Concretely if x is a Tensor with `x.requires_grad == True` then after backpropagation `x.grad` will be another Tensor holding the gradient of x with respect to the scalar loss at the end."
      ]
    },
    {
      "cell_type": "markdown",
      "metadata": {
        "id": "IY8cs_HiCDL7"
      },
      "source": [
        "### PyTorch Tensors: Flatten Function\n",
        "A PyTorch Tensor is conceptionally similar to a numpy array: it is an n-dimensional grid of numbers, and like numpy PyTorch provides many functions to efficiently operate on Tensors. As a simple example, we provide a `flatten` function below which reshapes image data for use in a fully-connected neural network.\n",
        "\n",
        "Recall that image data is typically stored in a Tensor of shape N x C x H x W, where:\n",
        "\n",
        "* N is the number of datapoints\n",
        "* C is the number of channels\n",
        "* H is the height of the intermediate feature map in pixels\n",
        "* W is the height of the intermediate feature map in pixels\n",
        "\n",
        "This is the right way to represent the data when we are doing something like a 2D convolution, that needs spatial understanding of where the intermediate features are relative to each other. When we use fully connected affine layers to process the image, however, we want each datapoint to be represented by a single vector -- it's no longer useful to segregate the different channels, rows, and columns of the data. So, we use a \"flatten\" operation to collapse the `C x H x W` values per representation into a single long vector. The flatten function below first reads in the N, C, H, and W values from a given batch of data, and then returns a \"view\" of that data. \"View\" is analogous to numpy's \"reshape\" method: it reshapes x's dimensions to be N x ??, where ?? is allowed to be anything (in this case, it will be C x H x W, but we don't need to specify that explicitly). "
      ]
    },
    {
      "cell_type": "code",
      "execution_count": 4,
      "metadata": {
        "id": "hJPkx-JVCDL8"
      },
      "outputs": [
        {
          "name": "stdout",
          "output_type": "stream",
          "text": [
            "Before flattening: tensor([[[[ 0,  1],\n",
            "          [ 2,  3],\n",
            "          [ 4,  5]]],\n",
            "\n",
            "\n",
            "        [[[ 6,  7],\n",
            "          [ 8,  9],\n",
            "          [10, 11]]]])\n",
            "After flattening: tensor([[ 0,  1,  2,  3,  4,  5],\n",
            "        [ 6,  7,  8,  9, 10, 11]])\n"
          ]
        }
      ],
      "source": [
        "def flatten(x):\n",
        "    N = x.shape[0] # read in N, C, H, W\n",
        "    return x.view(N, -1)  # \"flatten\" the C * H * W values into a single vector per image\n",
        "\n",
        "def test_flatten():\n",
        "    x = torch.arange(12).view(2, 1, 3, 2)\n",
        "    print(f\"Before flattening: {x}\")\n",
        "    print(f\"After flattening: {flatten(x)}\")\n",
        "\n",
        "test_flatten()"
      ]
    },
    {
      "cell_type": "markdown",
      "metadata": {
        "id": "8b03WXwBCDL8"
      },
      "source": [
        "### Barebones PyTorch: Two-Layer Network\n",
        "\n",
        "Here we define a function `two_layer_fc` which performs the forward pass of a two-layer fully-connected ReLU network on a batch of image data. After defining the forward pass we check that it doesn't crash and that it produces outputs of the right shape by running zeros through the network.\n",
        "\n",
        "You don't have to write any code here, but it's important that you read and understand the implementation."
      ]
    },
    {
      "cell_type": "code",
      "execution_count": 5,
      "metadata": {
        "id": "4Du1pdauCDL9"
      },
      "outputs": [
        {
          "name": "stdout",
          "output_type": "stream",
          "text": [
            "torch.Size([64, 10])\n"
          ]
        }
      ],
      "source": [
        "import torch.nn.functional as F  # useful stateless functions\n",
        "\n",
        "def two_layer_fc(x, params):\n",
        "    \"\"\"\n",
        "    A fully-connected neural networks; the architecture is:\n",
        "    NN is fully connected -> ReLU -> fully connected layer.\n",
        "    Note that this function only defines the forward pass; \n",
        "    PyTorch will take care of the backward pass for us.\n",
        "    \n",
        "    The input to the network will be a minibatch of data, of shape\n",
        "    (N, d1, ..., dM) where d1 * ... * dM = D. The hidden layer will have H units,\n",
        "    and the output layer will produce scores for C classes.\n",
        "    \n",
        "    Inputs:\n",
        "    - x: A PyTorch Tensor of shape (N, d1, ..., dM) giving a minibatch of\n",
        "      input data.\n",
        "    - params: A list [w1, w2] of PyTorch Tensors giving weights for the network;\n",
        "      w1 has shape (D, H) and w2 has shape (H, C).\n",
        "    \n",
        "    Returns:\n",
        "    - scores: A PyTorch Tensor of shape (N, C) giving classification scores for\n",
        "      the input data x.\n",
        "    \"\"\"\n",
        "    # first we flatten the image\n",
        "    x = flatten(x)  # shape: [batch_size, C x H x W]\n",
        "    \n",
        "    w1, w2 = params\n",
        "    \n",
        "    # Forward pass: compute predicted y using operations on Tensors. Since w1 and\n",
        "    # w2 have requires_grad=True, operations involving these Tensors will cause\n",
        "    # PyTorch to build a computational graph, allowing automatic computation of\n",
        "    # gradients. Since we are no longer implementing the backward pass by hand we\n",
        "    # don't need to keep references to intermediate values.\n",
        "    # you can also use `.clamp(min=0)`, equivalent to F.relu()\n",
        "    x = F.relu(x.mm(w1))\n",
        "    x = x.mm(w2)\n",
        "    return x\n",
        "    \n",
        "\n",
        "def two_layer_fc_test():\n",
        "    hidden_layer_size = 42\n",
        "    x = torch.zeros((64, 50), dtype=dtype)  # minibatch size 64, feature dimension 50\n",
        "    w1 = torch.zeros((50, hidden_layer_size), dtype=dtype)\n",
        "    w2 = torch.zeros((hidden_layer_size, 10), dtype=dtype)\n",
        "    scores = two_layer_fc(x, [w1, w2])\n",
        "    print(scores.size())  # you should see [64, 10]\n",
        "\n",
        "two_layer_fc_test()"
      ]
    },
    {
      "cell_type": "markdown",
      "metadata": {
        "id": "LHHCpLKbCDL9"
      },
      "source": [
        "### Q1 - Barebones PyTorch: Three-Layer ConvNet\n",
        "\n",
        "Here you will complete the implementation of the function `three_layer_convnet`, which will perform the forward pass of a three-layer convolutional network. Like above, we can immediately test our implementation by passing zeros through the network. The network should have the following architecture:\n",
        "\n",
        "1. A convolutional layer (with bias) with `channel_1` filters, each with shape `KW1 x KH1`, and zero-padding of two\n",
        "2. ReLU nonlinearity\n",
        "3. A convolutional layer (with bias) with `channel_2` filters, each with shape `KW2 x KH2`, and zero-padding of one\n",
        "4. ReLU nonlinearity\n",
        "5. Fully-connected layer with bias, producing scores for C classes.\n",
        "\n",
        "**HINT**: Check out the [documentation](https://pytorch.org/docs/stable/generated/torch.nn.functional.conv2d.html#torch.nn.functional.conv2d); pay attention to the shapes of convolutional filters!"
      ]
    },
    {
      "cell_type": "code",
      "execution_count": 6,
      "metadata": {
        "id": "4Mplw_fICDL-"
      },
      "outputs": [],
      "source": [
        "def three_layer_convnet(x, params):\n",
        "    \"\"\"\n",
        "    Performs the forward pass of a three-layer convolutional network with the\n",
        "    architecture defined above.\n",
        "\n",
        "    Inputs:\n",
        "    - x: A PyTorch Tensor of shape (N, 3, H, W) giving a minibatch of images\n",
        "    - params: A list of PyTorch Tensors giving the weights and biases for the\n",
        "      network; should contain the following:\n",
        "      - conv_w1: PyTorch Tensor of shape (channel_1, 3, KH1, KW1) giving weights\n",
        "        for the first convolutional layer\n",
        "      - conv_b1: PyTorch Tensor of shape (channel_1,) giving biases for the first\n",
        "        convolutional layer\n",
        "      - conv_w2: PyTorch Tensor of shape (channel_2, channel_1, KH2, KW2) giving\n",
        "        weights for the second convolutional layer\n",
        "      - conv_b2: PyTorch Tensor of shape (channel_2,) giving biases for the second\n",
        "        convolutional layer\n",
        "      - fc_w: PyTorch Tensor giving weights for the fully-connected layer. Can you\n",
        "        figure out what the shape should be?\n",
        "      - fc_b: PyTorch Tensor giving biases for the fully-connected layer. Can you\n",
        "        figure out what the shape should be?\n",
        "    \n",
        "    Returns:\n",
        "    - scores: PyTorch Tensor of shape (N, C) giving classification scores for x\n",
        "    \"\"\"\n",
        "    conv_w1, conv_b1, conv_w2, conv_b2, fc_w, fc_b = params\n",
        "    print(f\"conv_w1.shape: {conv_w1.shape}\")\n",
        "    print(f\"conv_w2: {conv_w2.shape}\")\n",
        "    print(f\"fc_w: {fc_w.shape}\")\n",
        "    scores = None\n",
        "    ################################################################################\n",
        "    # TODO: Implement the forward pass for the three-layer ConvNet.                #\n",
        "    ################################################################################\n",
        "    l_1 = torch.relu(torch.nn.functional.conv2d(x,conv_w1,conv_b1,stride = 1, padding = 2))\n",
        "    l_2 =  torch.relu(torch.nn.functional.conv2d(l_1,conv_w2,conv_b2,stride = 1, padding =1))\n",
        "\n",
        "    print(f\"L2: {l_2.shape}\")\n",
        "    print(torch.flatten(l_2,start_dim=1).shape)\n",
        "\n",
        "    scores = torch.nn.functional.linear(torch.flatten(l_2,start_dim=1),fc_w.T, fc_b )\n",
        "    \n",
        "    ################################################################################\n",
        "    #                                 END OF YOUR CODE                             #\n",
        "    ################################################################################\n",
        "    return scores"
      ]
    },
    {
      "cell_type": "markdown",
      "metadata": {
        "id": "nlhT8B8NCDL_"
      },
      "source": [
        "After defining the forward pass of the ConvNet above, run the following cell to test your implementation.\n",
        "\n",
        "When you run this function, scores should have shape (64, 10)."
      ]
    },
    {
      "cell_type": "code",
      "execution_count": 7,
      "metadata": {
        "id": "lJdS1y2SCDL_"
      },
      "outputs": [
        {
          "name": "stdout",
          "output_type": "stream",
          "text": [
            "conv_w1.shape: torch.Size([6, 3, 5, 5])\n",
            "conv_w2: torch.Size([9, 6, 3, 3])\n",
            "fc_w: torch.Size([9216, 10])\n",
            "L2: torch.Size([64, 9, 32, 32])\n",
            "torch.Size([64, 9216])\n",
            "torch.Size([64, 10])\n"
          ]
        }
      ],
      "source": [
        "def three_layer_convnet_test():\n",
        "    x = torch.zeros((64, 3, 32, 32), dtype=dtype)  # minibatch size 64, image size [3, 32, 32]\n",
        "\n",
        "    conv_w1 = torch.zeros((6, 3, 5, 5), dtype=dtype)  # [out_channel, in_channel, kernel_H, kernel_W]\n",
        "    conv_b1 = torch.zeros((6,))  # out_channel\n",
        "    conv_w2 = torch.zeros((9, 6, 3, 3), dtype=dtype)  # [out_channel, in_channel, kernel_H, kernel_W]\n",
        "    conv_b2 = torch.zeros((9,))  # out_channel\n",
        "\n",
        "    # you must calculate the shape of the tensor after two conv layers, before the fully-connected layer\n",
        "    fc_w = torch.zeros((9 * 32 * 32, 10))\n",
        "    fc_b = torch.zeros(10)\n",
        "\n",
        "    scores = three_layer_convnet(x, [conv_w1, conv_b1, conv_w2, conv_b2, fc_w, fc_b])\n",
        "    print(scores.size())  # you should see [64, 10]\n",
        "three_layer_convnet_test()"
      ]
    },
    {
      "cell_type": "markdown",
      "metadata": {
        "id": "oA6ijXqbCDL_"
      },
      "source": [
        "### Barebones PyTorch: Initialization\n",
        "Let's write a couple utility methods to initialize the weight matrices for our models.\n",
        "\n",
        "- `random_weight(shape)` initializes a weight tensor with the Kaiming normalization method.\n",
        "- `zero_weight(shape)` initializes a weight tensor with all zeros. Useful for instantiating bias parameters.\n",
        "\n",
        "The `random_weight` function uses the Kaiming normal initialization method, described in:\n",
        "\n",
        "He et al, *Delving Deep into Rectifiers: Surpassing Human-Level Performance on ImageNet Classification*, ICCV 2015, https://arxiv.org/abs/1502.01852"
      ]
    },
    {
      "cell_type": "code",
      "execution_count": 8,
      "metadata": {
        "id": "iMdRJPgWCDMA"
      },
      "outputs": [
        {
          "data": {
            "text/plain": [
              "tensor([[ 0.3612, -0.0621, -0.0127,  0.0570,  0.3163],\n",
              "        [ 0.3290, -1.3146,  0.8990, -0.2322, -0.1838],\n",
              "        [-0.9929, -0.1307, -0.0903, -0.0413, -1.2448]], device='cuda:0',\n",
              "       requires_grad=True)"
            ]
          },
          "execution_count": 8,
          "metadata": {},
          "output_type": "execute_result"
        }
      ],
      "source": [
        "def random_weight(shape):\n",
        "    \"\"\"\n",
        "    Create random Tensors for weights; setting requires_grad=True means that we\n",
        "    want to compute gradients for these Tensors during the backward pass.\n",
        "    We use Kaiming normalization: sqrt(2 / fan_in)\n",
        "    \"\"\"\n",
        "    if len(shape) == 2:  # FC weight\n",
        "        fan_in = shape[0]\n",
        "    else:\n",
        "        fan_in = np.prod(shape[1:]) # conv weight [out_channel, in_channel, kH, kW]\n",
        "    # randn is standard normal distribution generator. \n",
        "    w = torch.randn(shape, device=device, dtype=dtype) * np.sqrt(2. / fan_in)\n",
        "    w.requires_grad = True\n",
        "    return w\n",
        "\n",
        "def zero_weight(shape):\n",
        "    return torch.zeros(shape, device=device, dtype=dtype, requires_grad=True)\n",
        "\n",
        "# create a weight of shape [3 x 5]\n",
        "# you should see `device='cuda:0'` if you use GPU. \n",
        "random_weight((3, 5))\n"
      ]
    },
    {
      "cell_type": "markdown",
      "metadata": {
        "id": "Cb3u-b_3CDMA"
      },
      "source": [
        "### Barebones PyTorch: Check Accuracy\n",
        "When training the model we will use the following function to check the accuracy of our model on the training or validation sets.\n",
        "\n",
        "When checking accuracy we don't need to compute any gradients; as a result we don't need PyTorch to build a computational graph for us when we compute scores. To prevent a graph from being built we scope our computation under a `torch.no_grad()` context manager."
      ]
    },
    {
      "cell_type": "code",
      "execution_count": 9,
      "metadata": {
        "id": "sezZ-yY0CDMA"
      },
      "outputs": [],
      "source": [
        "def check_accuracy_part2(loader, model_fn, params):\n",
        "    \"\"\"\n",
        "    Check the accuracy of a classification model.\n",
        "    \n",
        "    Inputs:\n",
        "    - loader: A DataLoader for the data split we want to check\n",
        "    - model_fn: A function that performs the forward pass of the model,\n",
        "      with the signature scores = model_fn(x, params)\n",
        "    - params: List of PyTorch Tensors giving parameters of the model\n",
        "    \n",
        "    Returns: Nothing, but prints the accuracy of the model\n",
        "    \"\"\"\n",
        "    split = 'val' if loader.dataset.train else 'test'\n",
        "    print('Checking accuracy on the %s set' % split)\n",
        "    num_correct, num_samples = 0, 0\n",
        "    with torch.no_grad():\n",
        "        for x, y in loader:\n",
        "            x = x.to(device=device, dtype=dtype)  # move to device, e.g. GPU\n",
        "            y = y.to(device=device, dtype=torch.int64)\n",
        "            scores = model_fn(x, params)\n",
        "            _, preds = scores.max(1)\n",
        "            num_correct += (preds == y).sum()\n",
        "            num_samples += preds.size(0)\n",
        "        acc = float(num_correct) / num_samples\n",
        "        print('Got %d / %d correct (%.2f%%)' % (num_correct, num_samples, 100 * acc))"
      ]
    },
    {
      "cell_type": "markdown",
      "metadata": {
        "id": "0Xy7LwmDCDMB"
      },
      "source": [
        "### BareBones PyTorch: Training Loop\n",
        "We can now set up a basic training loop to train our network. We will train the model using stochastic gradient descent without momentum. We will use `torch.functional.cross_entropy` to compute the loss; you can [read about it here](https://pytorch.org/docs/stable/generated/torch.nn.functional.cross_entropy.html#torch.nn.functional.cross_entropy).\n",
        "\n",
        "The training loop takes as input the neural network function, a list of initialized parameters (`[w1, w2]` in our example), and learning rate."
      ]
    },
    {
      "cell_type": "code",
      "execution_count": 10,
      "metadata": {
        "id": "RnZfDkztCDMB"
      },
      "outputs": [],
      "source": [
        "def train_part2(model_fn, params, learning_rate):\n",
        "    \"\"\"\n",
        "    Train a model on CIFAR-10.\n",
        "    \n",
        "    Inputs:\n",
        "    - model_fn: A Python function that performs the forward pass of the model.\n",
        "      It should have the signature scores = model_fn(x, params) where x is a\n",
        "      PyTorch Tensor of image data, params is a list of PyTorch Tensors giving\n",
        "      model weights, and scores is a PyTorch Tensor of shape (N, C) giving\n",
        "      scores for the elements in x.\n",
        "    - params: List of PyTorch Tensors giving weights for the model\n",
        "    - learning_rate: Python scalar giving the learning rate to use for SGD\n",
        "    \n",
        "    Returns: Nothing\n",
        "    \"\"\"\n",
        "    for t, (x, y) in enumerate(loader_train):\n",
        "        # Move the data to the proper device (GPU or CPU)\n",
        "        x = x.to(device=device, dtype=dtype)\n",
        "        y = y.to(device=device, dtype=torch.long)\n",
        "\n",
        "        # Forward pass: compute scores and loss\n",
        "        scores = model_fn(x, params)\n",
        "        loss = F.cross_entropy(scores, y)\n",
        "\n",
        "        # Backward pass: PyTorch figures out which Tensors in the computational\n",
        "        # graph has requires_grad=True and uses backpropagation to compute the\n",
        "        # gradient of the loss with respect to these Tensors, and stores the\n",
        "        # gradients in the .grad attribute of each Tensor.\n",
        "        loss.backward()\n",
        "\n",
        "        # Update parameters. We don't want to backpropagate through the\n",
        "        # parameter updates, so we scope the updates under a torch.no_grad()\n",
        "        # context manager to prevent a computational graph from being built.\n",
        "        with torch.no_grad():\n",
        "            for w in params:\n",
        "                w -= learning_rate * w.grad\n",
        "\n",
        "                # Manually zero the gradients after running the backward pass\n",
        "                w.grad.zero_()\n",
        "\n",
        "        if t % print_every == 0:\n",
        "            print('Iteration %d, loss = %.4f' % (t, loss.item()))\n",
        "            check_accuracy_part2(loader_val, model_fn, params)\n",
        "            print()"
      ]
    },
    {
      "cell_type": "markdown",
      "metadata": {
        "id": "6ETYl-UuCDMC"
      },
      "source": [
        "### BareBones PyTorch: Train a Two-Layer Network\n",
        "Now we are ready to run the training loop. We need to explicitly allocate tensors for the fully connected weights, `w1` and `w2`. \n",
        "\n",
        "Each minibatch of CIFAR has 64 examples, so the tensor shape is `[64, 3, 32, 32]`. \n",
        "\n",
        "After flattening, `x` shape should be `[64, 3 * 32 * 32]`. This will be the size of the first dimension of `w1`. \n",
        "The second dimension of `w1` is the hidden layer size, which will also be the first dimension of `w2`. \n",
        "\n",
        "Finally, the output of the network is a 10-dimensional vector that represents the probability distribution over 10 classes. \n",
        "\n",
        "You don't need to tune any hyperparameters but you should see accuracies above 40% after training for one epoch."
      ]
    },
    {
      "cell_type": "code",
      "execution_count": 11,
      "metadata": {
        "id": "AQfG3CpXCDMC"
      },
      "outputs": [],
      "source": [
        "hidden_layer_size = 4000\n",
        "learning_rate = 1e-2\n",
        "\n",
        "w1 = random_weight((3 * 32 * 32, hidden_layer_size))\n",
        "w2 = random_weight((hidden_layer_size, 10))\n",
        "\n",
        "if TRAIN:\n",
        "    train_part2(two_layer_fc, [w1, w2], learning_rate)"
      ]
    },
    {
      "cell_type": "markdown",
      "metadata": {
        "id": "iXqwhVAJCDMC"
      },
      "source": [
        "### Q2 - BareBones PyTorch: Training a ConvNet\n",
        "\n",
        "In the code box below you should use the functions defined above to train a three-layer convolutional network on CIFAR. The network should have the following architecture:\n",
        "\n",
        "1. Convolutional layer (with bias) with 32 5x5 filters, with zero-padding of 2\n",
        "2. ReLU\n",
        "3. Convolutional layer (with bias) with 16 3x3 filters, with zero-padding of 1\n",
        "4. ReLU\n",
        "5. Fully-connected layer (with bias) to compute scores for 10 classes\n",
        "\n",
        "You should initialize your weight matrices using the `random_weight` function defined above, and you should initialize your bias vectors using the `zero_weight` function above.\n",
        "\n",
        "You don't need to tune any hyperparameters, but if everything works correctly you should achieve an accuracy above 42% after one epoch."
      ]
    },
    {
      "cell_type": "code",
      "execution_count": 12,
      "metadata": {
        "id": "uvsYlqWGCDMC"
      },
      "outputs": [
        {
          "name": "stdout",
          "output_type": "stream",
          "text": [
            "torch.Size([16, 288])\n",
            "conv_w1: torch.Size([32, 3, 5, 5])\n",
            "conv_w2: torch.Size([16, 32, 3, 3])\n",
            "conv_b1: torch.Size([32])\n",
            "conv_b2: torch.Size([16])\n",
            "fc_w: torch.Size([16384, 10])\n",
            "fc_b: torch.Size([10])\n"
          ]
        }
      ],
      "source": [
        "learning_rate = 3e-3\n",
        "\n",
        "channel_1 = 32\n",
        "channel_2 = 16\n",
        "\n",
        "\n",
        "################################################################################\n",
        "# TODO: Initialize the parameters of a three-layer ConvNet.                    #\n",
        "################################################################################\n",
        "conv_w1 = random_weight((channel_1,3, 5, 5))\n",
        "conv_b1 = zero_weight((channel_1,))\n",
        "conv_w2 = random_weight((channel_2, channel_1, 3, 3))\n",
        "conv_b2 = zero_weight((channel_2,))\n",
        "f = flatten(conv_w2)\n",
        "print(f.shape)\n",
        "fc_w =random_weight((32*32*16,10))\n",
        "fc_b = zero_weight(10,)\n",
        "################################################################################\n",
        "#                                 END OF YOUR CODE                             #\n",
        "################################################################################\n",
        "\n",
        "params = [conv_w1, conv_b1, conv_w2, conv_b2, fc_w, fc_b]\n",
        "print(f\"conv_w1: {conv_w1.shape}\")\n",
        "print(f\"conv_w2: {conv_w2.shape}\")\n",
        "print(f\"conv_b1: {conv_b1.shape}\")\n",
        "print(f\"conv_b2: {conv_b2.shape}\")\n",
        "print(f\"fc_w: {fc_w.shape}\")\n",
        "print(f\"fc_b: {fc_b.shape}\")\n",
        "\n",
        "if TRAIN:\n",
        "    train_part2(three_layer_convnet, params, learning_rate)"
      ]
    },
    {
      "cell_type": "markdown",
      "metadata": {
        "id": "aDG0bx59CDMC"
      },
      "source": [
        "# Part III. PyTorch Module API\n",
        "\n",
        "Barebone PyTorch requires that we track all the parameter tensors by hand. This is fine for small networks with a few tensors, but it would be extremely inconvenient and error-prone to track tens or hundreds of tensors in larger networks.\n",
        "\n",
        "PyTorch provides the `nn.Module` API for you to define arbitrary network architectures, while tracking every learnable parameters for you. PyTorch also provides the `torch.optim` package that implements all the common optimizers, such as RMSProp, Adagrad, and Adam. It even supports approximate second-order methods like L-BFGS! You can refer to the [doc](http://pytorch.org/docs/master/optim.html) for the exact specifications of each optimizer.\n",
        "\n",
        "To use the Module API, follow the steps below:\n",
        "\n",
        "1. Subclass `nn.Module`. Give your network class an intuitive name like `TwoLayerFC`. \n",
        "\n",
        "2. In the constructor `__init__()`, define all the layers you need as class attributes. Layer objects like `nn.Linear` and `nn.Conv2d` are themselves `nn.Module` subclasses and contain learnable parameters, so that you don't have to instantiate the raw tensors yourself. `nn.Module` will track these internal parameters for you. Refer to the [doc](http://pytorch.org/docs/master/nn.html) to learn more about the dozens of builtin layers. **Warning**: don't forget to call the `super().__init__()` first!\n",
        "\n",
        "3. In the `forward()` method, define the *connectivity* of your network. You should use the attributes defined in `__init__` as function calls that take tensor as input and output the \"transformed\" tensor. Do *not* create any new layers with learnable parameters in `forward()`! All of them must be declared upfront in `__init__`. \n",
        "\n",
        "After you define your Module subclass, you can instantiate it as an object and call it just like the NN forward function in part II.\n",
        "\n",
        "### Module API: Two-Layer Network\n",
        "Here is a concrete example of a 2-layer fully connected network:"
      ]
    },
    {
      "cell_type": "code",
      "execution_count": 13,
      "metadata": {
        "id": "lIkLx6ADCDMD"
      },
      "outputs": [
        {
          "name": "stdout",
          "output_type": "stream",
          "text": [
            "size: torch.Size([64, 50])\n",
            "torch.Size([64, 10])\n"
          ]
        }
      ],
      "source": [
        "class TwoLayerFC(nn.Module):\n",
        "    def __init__(self, input_size, hidden_size, num_classes):\n",
        "        super().__init__()\n",
        "        # assign layer objects to class attributes\n",
        "        self.fc1 = nn.Linear(input_size, hidden_size)\n",
        "        # nn.init package contains convenient initialization methods\n",
        "        # http://pytorch.org/docs/master/nn.html#torch-nn-init \n",
        "        nn.init.kaiming_normal_(self.fc1.weight)\n",
        "        self.fc2 = nn.Linear(hidden_size, num_classes)\n",
        "        nn.init.kaiming_normal_(self.fc2.weight)\n",
        "\n",
        "    def forward(self, x):\n",
        "        # forward always defines connectivity\n",
        "        x = flatten(x)\n",
        "        scores = self.fc2(F.relu(self.fc1(x)))\n",
        "        return scores\n",
        "\n",
        "def test_TwoLayerFC():\n",
        "    input_size = 50\n",
        "    x = torch.zeros((64, input_size), dtype=dtype)  # minibatch size 64, feature dimension 50\n",
        "    print(f\"size: {x.shape}\")\n",
        "    model = TwoLayerFC(input_size, 42, 10)\n",
        "    scores = model(x)\n",
        "    print(scores.size())  # you should see [64, 10]\n",
        "test_TwoLayerFC()"
      ]
    },
    {
      "cell_type": "markdown",
      "metadata": {
        "id": "XF8nQ86dCDMD"
      },
      "source": [
        "### Q3 - Module API: Three-Layer ConvNet\n",
        "It's your turn to implement a 3-layer ConvNet followed by a fully connected layer. The network architecture should be the same as in Part II:\n",
        "\n",
        "1. Convolutional layer with `channel_1` 5x5 filters with zero-padding of 2\n",
        "2. ReLU\n",
        "3. Convolutional layer with `channel_2` 3x3 filters with zero-padding of 1\n",
        "4. ReLU\n",
        "5. Fully-connected layer to `num_classes` classes\n",
        "\n",
        "You should initialize the weight matrices of the model using the Kaiming normal initialization method.\n",
        "\n",
        "**HINT**: Check out the [documentation](https://pytorch.org/docs/stable/generated/torch.nn.Conv2d.html#torch.nn.Conv2d)\n",
        "\n",
        "After you implement the three-layer ConvNet, the `test_ThreeLayerConvNet` function will run your implementation; it should print `(64, 10)` for the shape of the output scores."
      ]
    },
    {
      "cell_type": "code",
      "execution_count": 14,
      "metadata": {
        "id": "5wZe3ZQLCDMD"
      },
      "outputs": [
        {
          "name": "stdout",
          "output_type": "stream",
          "text": [
            "C1: torch.Size([64, 12, 32, 32])\n",
            "C2: torch.Size([64, 8, 32, 32])\n",
            "torch.Size([64, 8192])\n",
            "torch.Size([64, 10])\n"
          ]
        }
      ],
      "source": [
        "class ThreeLayerConvNet(nn.Module):\n",
        "    def __init__(self, in_channel, channel_1, channel_2, num_classes):\n",
        "        super().__init__()\n",
        "        ########################################################################\n",
        "        # TODO: Set up the layers you need for a three-layer ConvNet with the  #\n",
        "        # architecture defined above.                                          #\n",
        "        ########################################################################\n",
        "        self.C1 = torch.nn.Conv2d(in_channels=in_channel, out_channels=channel_1, kernel_size=5, stride=1, padding=2)\n",
        "        self.C2 = torch.nn.Conv2d(in_channels=channel_1, out_channels=channel_2, kernel_size=3, stride=1, padding=1)\n",
        "        self.L1 = torch.nn.Linear(in_features=32*32*channel_2, out_features= num_classes, bias=True)\n",
        "        ########################################################################\n",
        "        #                          END OF YOUR CODE                            #       \n",
        "        ########################################################################\n",
        "\n",
        "    def forward(self, x):\n",
        "        scores = None\n",
        "        ########################################################################\n",
        "        # TODO: Implement the forward function for a 3-layer ConvNet. you      #\n",
        "        # should use the layers you defined in __init__ and specify the        #\n",
        "        # connectivity of those layers in forward()                            #\n",
        "        ########################################################################\n",
        "        x = F.relu(self.C1(x))\n",
        "        print(f\"C1: {x.shape}\")\n",
        "        x = F.relu(self.C2(x))\n",
        "        print(f\"C2: {x.shape}\")\n",
        "        x = flatten(x)\n",
        "        print(x.shape)\n",
        "        scores = self.L1(x)\n",
        "        ########################################################################\n",
        "        #                             END OF YOUR CODE                         #\n",
        "        ########################################################################\n",
        "        return scores\n",
        "\n",
        "\n",
        "def test_ThreeLayerConvNet():\n",
        "    x = torch.zeros((64, 3, 32, 32), dtype=dtype)  # minibatch size 64, image size [3, 32, 32]\n",
        "    model = ThreeLayerConvNet(in_channel=3, channel_1=12, channel_2=8, num_classes=10)\n",
        "    scores = model(x)\n",
        "    print(scores.size())  # you should see [64, 10]\n",
        "test_ThreeLayerConvNet()"
      ]
    },
    {
      "cell_type": "markdown",
      "metadata": {
        "id": "VwK_jKsbCDMD"
      },
      "source": [
        "### Module API: Check Accuracy\n",
        "Given the validation or test set, we can check the classification accuracy of a neural network. \n",
        "\n",
        "This version is slightly different from the one in part II. You don't manually pass in the parameters anymore."
      ]
    },
    {
      "cell_type": "code",
      "execution_count": 15,
      "metadata": {
        "id": "G-8W2C_SCDMD"
      },
      "outputs": [],
      "source": [
        "def check_accuracy_part34(loader, model):\n",
        "    if loader.dataset.train:\n",
        "        print('Checking accuracy on validation set')\n",
        "    else:\n",
        "        print('Checking accuracy on test set')   \n",
        "    num_correct = 0\n",
        "    num_samples = 0\n",
        "    model.eval()  # set model to evaluation mode\n",
        "    with torch.no_grad():\n",
        "        for x, y in loader:\n",
        "            x = x.to(device=device, dtype=dtype)  # move to device, e.g. GPU\n",
        "            y = y.to(device=device, dtype=torch.long)\n",
        "            scores = model(x)\n",
        "            _, preds = scores.max(1)\n",
        "            num_correct += (preds == y).sum()\n",
        "            num_samples += preds.size(0)\n",
        "        acc = float(num_correct) / num_samples\n",
        "        print('Got %d / %d correct (%.2f)' % (num_correct, num_samples, 100 * acc))"
      ]
    },
    {
      "cell_type": "markdown",
      "metadata": {
        "id": "g0Al_aYbCDME"
      },
      "source": [
        "### Module API: Training Loop\n",
        "We also use a slightly different training loop. Rather than updating the values of the weights ourselves, we use an Optimizer object from the `torch.optim` package, which abstract the notion of an optimization algorithm and provides implementations of most of the algorithms commonly used to optimize neural networks."
      ]
    },
    {
      "cell_type": "code",
      "execution_count": 16,
      "metadata": {
        "id": "Tr7wwhwFCDME"
      },
      "outputs": [],
      "source": [
        "def train_part34(model, optimizer, epochs=1):\n",
        "    \"\"\"\n",
        "    Train a model on CIFAR-10 using the PyTorch Module API.\n",
        "    \n",
        "    Inputs:\n",
        "    - model: A PyTorch Module giving the model to train.\n",
        "    - optimizer: An Optimizer object we will use to train the model\n",
        "    - epochs: (Optional) A Python integer giving the number of epochs to train for\n",
        "    \n",
        "    Returns: Nothing, but prints model accuracies during training.\n",
        "    \"\"\"\n",
        "    model = model.to(device=device)  # move the model parameters to CPU/GPU\n",
        "    for e in range(epochs):\n",
        "        for t, (x, y) in enumerate(loader_train):\n",
        "            model.train()  # put model to training mode\n",
        "            x = x.to(device=device, dtype=dtype)  # move to device, e.g. GPU\n",
        "            y = y.to(device=device, dtype=torch.long)\n",
        "\n",
        "            scores = model(x)\n",
        "            loss = F.cross_entropy(scores, y)\n",
        "\n",
        "            # Zero out all of the gradients for the variables which the optimizer\n",
        "            # will update.\n",
        "            optimizer.zero_grad()\n",
        "\n",
        "            # This is the backwards pass: compute the gradient of the loss with\n",
        "            # respect to each  parameter of the model.\n",
        "            loss.backward()\n",
        "\n",
        "            # Actually update the parameters of the model using the gradients\n",
        "            # computed by the backwards pass.\n",
        "            optimizer.step()\n",
        "\n",
        "            if t % print_every == 0:\n",
        "                print('Iteration %d, loss = %.4f' % (t, loss.item()))\n",
        "                check_accuracy_part34(loader_val, model)\n",
        "                print()"
      ]
    },
    {
      "cell_type": "markdown",
      "metadata": {
        "id": "kuqpMa-8CDME"
      },
      "source": [
        "### Module API: Train a Two-Layer Network\n",
        "Now we are ready to run the training loop. In contrast to part II, we don't explicitly allocate parameter tensors anymore.\n",
        "\n",
        "Simply pass the input size, hidden layer size, and number of classes (i.e. output size) to the constructor of `TwoLayerFC`. \n",
        "\n",
        "You also need to define an optimizer that tracks all the learnable parameters inside `TwoLayerFC`.\n",
        "\n",
        "You don't need to tune any hyperparameters, but you should see model accuracies above 40% after training for one epoch."
      ]
    },
    {
      "cell_type": "code",
      "execution_count": 17,
      "metadata": {
        "id": "vXZsziosCDME"
      },
      "outputs": [],
      "source": [
        "hidden_layer_size = 4000\n",
        "learning_rate = 1e-2\n",
        "model = TwoLayerFC(3 * 32 * 32, hidden_layer_size, 10)\n",
        "optimizer = optim.SGD(model.parameters(), lr=learning_rate)\n",
        "\n",
        "if TRAIN:\n",
        "    train_part34(model, optimizer)"
      ]
    },
    {
      "cell_type": "markdown",
      "metadata": {
        "id": "ZashanKRCDMF"
      },
      "source": [
        "### Q4 -  Module API: Train a Three-Layer ConvNet\n",
        "You should now use the Module API to train a three-layer ConvNet on CIFAR. This should look very similar to training the two-layer network! You don't need to tune any hyperparameters, but you should achieve above above 45% after training for one epoch.\n",
        "\n",
        "You should train the model using stochastic gradient descent without momentum."
      ]
    },
    {
      "cell_type": "code",
      "execution_count": 18,
      "metadata": {
        "id": "1uPzLv9iCDMF"
      },
      "outputs": [],
      "source": [
        "learning_rate = 3e-3\n",
        "channel_1 = 32\n",
        "channel_2 = 16\n",
        "\n",
        "model = ThreeLayerConvNet(in_channel=3, channel_1=channel_1, channel_2=channel_2, num_classes=10)\n",
        "optimizer = optim.SGD(model.parameters(), lr=learning_rate)\n",
        "\n",
        "################################################################################\n",
        "# TODO: Instantiate your ThreeLayerConvNet model and a corresponding optimizer #\n",
        "################################################################################\n",
        "\n",
        "################################################################################\n",
        "#                                 END OF YOUR CODE                             \n",
        "################################################################################\n",
        "\n",
        "if TRAIN:\n",
        "    train_part34(model, optimizer)"
      ]
    },
    {
      "cell_type": "markdown",
      "metadata": {
        "id": "AL9O831yCDMF"
      },
      "source": [
        "# Part IV. PyTorch Sequential API\n",
        "\n",
        "Part III introduced the PyTorch Module API, which allows you to define arbitrary learnable layers and their connectivity. \n",
        "\n",
        "For simple models like a stack of feed forward layers, you still need to go through 3 steps: subclass `nn.Module`, assign layers to class attributes in `__init__`, and call each layer one by one in `forward()`. Is there a more convenient way? \n",
        "\n",
        "Fortunately, PyTorch provides a container Module called `nn.Sequential`, which merges the above steps into one. It is not as flexible as `nn.Module`, because you cannot specify more complex topology than a feed-forward stack, but it's good enough for many use cases."
      ]
    },
    {
      "cell_type": "markdown",
      "metadata": {
        "id": "AgFTPvgaCDMF"
      },
      "source": [
        "### Q5 - Sequential API: Three-Layer ConvNet\n",
        "Here you should use `nn.Sequential` to define and train a three-layer ConvNet with the same architecture we used in Part III:\n",
        "\n",
        "1. Convolutional layer (with bias) with 32 5x5 filters, with zero-padding of 2\n",
        "2. ReLU\n",
        "3. Convolutional layer (with bias) with 16 3x3 filters, with zero-padding of 1\n",
        "4. ReLU\n",
        "5. Fully-connected layer (with bias) to compute scores for 10 classes\n",
        "\n",
        "\n",
        "You should optimize your model using stochastic gradient descent with Nesterov momentum 0.9.\n",
        "\n",
        "Again, you don't need to tune any hyperparameters but you should see accuracy above 55% after one epoch of training."
      ]
    },
    {
      "cell_type": "code",
      "execution_count": 19,
      "metadata": {
        "id": "aoSJj_jqCDMF"
      },
      "outputs": [],
      "source": [
        "# We need to wrap `flatten` function in a module in order to stack it\n",
        "# in nn.Sequential\n",
        "class Flatten(nn.Module):\n",
        "    def forward(self, x):\n",
        "        return flatten(x)\n",
        "    \n",
        "channel_1 = 32\n",
        "channel_2 = 16\n",
        "learning_rate = 1e-2\n",
        "\n",
        "################################################################################\n",
        "# TODO: Rewrite the 3-layer ConvNet with bias from Part III with the           #\n",
        "# Sequential API.                                                              #\n",
        "################################################################################\n",
        "model =  nn.Sequential(\n",
        "    nn.Conv2d(in_channels=3, out_channels=channel_1, kernel_size=5, stride=1, padding=2, bias=True),\n",
        "    nn.ReLU(),\n",
        "    nn.Conv2d(in_channels=channel_1, out_channels=channel_2, kernel_size=5, stride=1, padding=2, bias = True),\n",
        "    nn.ReLU(),\n",
        "    nn.Flatten(start_dim=1),\n",
        "    nn.Linear(32*32*channel_2, 10)\n",
        ")\n",
        "optimizer = optim.SGD(model.parameters(), lr=learning_rate)\n",
        "\n",
        "################################################################################\n",
        "#                                 END OF YOUR CODE                             \n",
        "################################################################################\n",
        "if TRAIN:\n",
        "    train_part34(model, optimizer)"
      ]
    },
    {
      "cell_type": "markdown",
      "metadata": {
        "id": "FeLdBEAbCDMF"
      },
      "source": [
        "# Part V. Q6 - CIFAR-10 Open Challenge\n",
        "\n",
        "In this section, we need to create a decent model. Experiment with whatever ConvNet architecture you'd like on CIFAR-10.\n",
        "\n",
        "It is your job to experiment with architectures, hyperparameters, loss functions, and optimizers to train a model that achieves **at least 70%** accuracy on the CIFAR-10 **validation** set within 10 epochs. You can use the check_accuracy and train functions from above. You should use the  `nn.Module` API. \n",
        "\n",
        "Here are the official API documentation for each component. One note: what we call in the class \"spatial batch norm\" is called \"BatchNorm2D\" in PyTorch.\n",
        "\n",
        "* Layers in torch.nn package: http://pytorch.org/docs/stable/nn.html\n",
        "* Activations: http://pytorch.org/docs/stable/nn.html#non-linear-activations\n",
        "* Loss functions: http://pytorch.org/docs/stable/nn.html#loss-functions\n",
        "* Optimizers: http://pytorch.org/docs/stable/optim.html\n",
        "\n",
        "\n",
        "### Things you might try:\n",
        "- **Filter size**: Above we used 5x5; would smaller filters be more efficient?\n",
        "- **Number of filters**: Above we used 32 filters. Do more or fewer do better?\n",
        "- **Pooling vs Strided Convolution**: Do you use max pooling or just stride convolutions?\n",
        "- **Batch normalization**: Try adding spatial batch normalization after convolution layers and vanilla batch normalization after affine layers. Do your networks train faster?\n",
        "- **Network architecture**: The network above has two layers of trainable parameters. Can you do better with a deep network? Good architectures to try include:\n",
        "    - [conv-relu-pool]xN -> [affine]xM -> [softmax or SVM]\n",
        "    - [conv-relu-conv-relu-pool]xN -> [affine]xM -> [softmax or SVM]\n",
        "    - [batchnorm-relu-conv]xN -> [affine]xM -> [softmax or SVM]\n",
        "- **Global Average Pooling**: Instead of flattening and then having multiple affine layers, perform convolutions until your image gets small (7x7 or so) and then perform an average pooling operation to get to a 1x1 image picture (1, 1 , Filter#), which is then reshaped into a (Filter#) vector. This is used in [Google's Inception Network](https://arxiv.org/abs/1512.00567) (See Table 1 for their architecture).\n",
        "- **Regularization**: Add l2 weight regularization, or perhaps use Dropout.\n",
        "\n",
        "### Tips for training\n",
        "For each network architecture that you try, you should tune the learning rate and other hyperparameters. When doing this there are a couple important things to keep in mind:\n",
        "\n",
        "- If the parameters are working well, you should see improvement within a few hundred iterations\n",
        "- Remember the coarse-to-fine approach for hyperparameter tuning: start by testing a large range of hyperparameters for just a few training iterations to find the combinations of parameters that are working at all.\n",
        "- Once you have found some sets of parameters that seem to work, search more finely around these parameters. You may need to train for more epochs.\n",
        "- You should use the validation set for hyperparameter search, and save your test set for evaluating your architecture on the best parameters as selected by the validation set.\n",
        "\n",
        "### Going above and beyond\n",
        "If you are feeling adventurous there are many other features you can implement to try and improve your performance. You are **not required** to implement any of these, but don't miss the fun if you have time!\n",
        "\n",
        "- Alternative optimizers: you can try Adam, Adagrad, RMSprop, etc.\n",
        "- Alternative activation functions such as leaky ReLU, parametric ReLU, ELU, or MaxOut.\n",
        "- Model ensembles\n",
        "- Data augmentation\n",
        "- New Architectures\n",
        "  - [ResNets](https://arxiv.org/abs/1512.03385) where the input from the previous layer is added to the output.\n",
        "  - [DenseNets](https://arxiv.org/abs/1608.06993) where inputs into previous layers are concatenated together.\n",
        "  - [This blog has an in-depth overview](https://chatbotslife.com/resnets-highwaynets-and-densenets-oh-my-9bb15918ee32)\n",
        "  \n",
        "Deliverables:\n",
        "- Explain what techniques you have implemented and how they improve your model/\n",
        "- Report the train and validation accuracy of your model (remember, 70% minimal on validation set!).\n",
        "- Report test set accuracy at the end after parameter tuning. Explain why we do not want to evaluate our test set during trainig.\n",
        "- 10 correct and 10 incorrect model predictions on the test set.\n",
        "\n",
        "Let's start!"
      ]
    },
    {
      "cell_type": "code",
      "execution_count": 20,
      "metadata": {},
      "outputs": [
        {
          "name": "stdout",
          "output_type": "stream",
          "text": [
            "Original shapes:\n",
            "Outputs: torch.Size([1, 10])\n",
            "Target: torch.Size([1])\n",
            "\n",
            "After softmax:\n",
            "Outputs: tensor([[0.0139, 0.0347, 0.1108, 0.0163, 0.1437, 0.0137, 0.0923, 0.1342, 0.2635,\n",
            "         0.1768]])\n",
            "Target: tensor([3])\n",
            "\n",
            "After one-hot encoding:\n",
            "Outputs: tensor([[0.0139, 0.0347, 0.1108, 0.0163, 0.1437, 0.0137, 0.0923, 0.1342, 0.2635,\n",
            "         0.1768]])\n",
            "Target: tensor([[0., 0., 0., 1., 0., 0., 0., 0., 0., 0.]])\n",
            "\n",
            "Loss with target as integer: 4.1182098388671875\n",
            "Loss with target as one-hot: 0.9200295209884644\n"
          ]
        }
      ],
      "source": [
        "import torch.nn as nn\n",
        "import torch\n",
        "\n",
        "# Example inputs\n",
        "outputs = torch.randn(1, 10)\n",
        "target = torch.LongTensor([3])\n",
        "\n",
        "# Print original shapes\n",
        "print(\"Original shapes:\")\n",
        "print(f\"Outputs: {outputs.shape}\")\n",
        "print(f\"Target: {target.shape}\")\n",
        "\n",
        "# Apply softmax to outputs\n",
        "outputs_softmax = nn.Softmax(dim=1)(outputs)\n",
        "print(\"\\nAfter softmax:\")\n",
        "print(f\"Outputs: {outputs_softmax}\")\n",
        "print(f\"Target: {target}\")\n",
        "\n",
        "# Convert target to one-hot encoding\n",
        "target_onehot = torch.zeros(1, 10)\n",
        "target_onehot[0, target] = 1\n",
        "print(\"\\nAfter one-hot encoding:\")\n",
        "print(f\"Outputs: {outputs_softmax}\")\n",
        "print(f\"Target: {target_onehot}\")\n",
        "\n",
        "# Compute loss with CrossEntropyLoss\n",
        "criterion = nn.CrossEntropyLoss()\n",
        "loss = criterion(outputs, target)\n",
        "print(f\"\\nLoss with target as integer: {loss}\")\n",
        "\n",
        "# Compute loss with BCEWithLogitsLoss\n",
        "criterion_bce = nn.BCEWithLogitsLoss()\n",
        "loss_bce = criterion_bce(outputs, target_onehot)\n",
        "print(f\"Loss with target as one-hot: {loss_bce}\")\n"
      ]
    },
    {
      "cell_type": "code",
      "execution_count": 21,
      "metadata": {
        "id": "KayFF7wnCDMG"
      },
      "outputs": [],
      "source": [
        "################################################################################\n",
        "# TODO:                                                                        #         \n",
        "# Experiment with any architectures, optimizers, and hyperparameters.          #\n",
        "# Achieve AT LEAST 70% accuracy on the *validation set* within 10 epochs.      #\n",
        "#                                                                              #\n",
        "# Note that you can use the check_accuracy function to evaluate on either      #\n",
        "# the test set or the validation set, by passing either loader_test or         #\n",
        "# loader_val as the second argument to check_accuracy. You should not touch    #\n",
        "# the test set until you have finished your architecture and hyperparameter    #\n",
        "# tuning, and only run the test set once at the end to report a final value.   #\n",
        "################################################################################\n",
        "pass\n",
        "################################################################################\n",
        "#                                 END OF YOUR CODE                             \n",
        "################################################################################\n",
        "\n",
        "# You should get at least 70% accuracy\n",
        "if TRAIN:\n",
        "    train_part34(model, optimizer, epochs=10)"
      ]
    },
    {
      "attachments": {},
      "cell_type": "markdown",
      "metadata": {
        "id": "kJQA-Bn7CDMI"
      },
      "source": [
        "## Project: \"Rotation Invariant\"\n",
        "\n",
        "### Important Note\n",
        "The model was evaluated and run using PyCharm rather than Jupyter. The need for debugging and the flexibility to leverage a GPU for quicker training were the driving factors in choosing PyCharm. An additional file containing the training loop and model was included to make it easier to run the model without the need of a Jupyter notebook. So, each output figures (for testing and validation training etc.. ) were simply inserted in the same location as it had been stored in the previous file.\n",
        "\n",
        "### Introduction\n",
        "\n",
        "The \"Rotation Invariant\" research investigates how to build a simple GCNN (geometric convolutional neural network) model that is rotation-invariant. The model is implemented in PyTorch as rotaClass.\n",
        "\n",
        "The number of input channels, the number of output channels, the kernel size, and a standard deviation value are all inputs to the rotaClass model. It has four convolutional layers with rotating kernels, shared weights determined by nn.Parameter, and shared weights.\n",
        "\n",
        "The Xavier normal initialization method is used to initialize the shared weights. Utilizing nn.Conv2d, the four convolution layers are produced and initialized with the shared weights. The shared weight matrix was rotated by 90, 180, and 270 degrees along the second and third dimensions to create a rotated kernel for each of the four convolution layers.\n",
        "\n",
        "The input is sent through each of the four convolution layers separately in the rotaClass model's forward technique, and the outputs are stacked along a new dimension. The final output, which is rotation-invariant, is produced via max pooling over this extra dimension.\n",
        "\n",
        "### First, Lets explore why we need it at the first place"
      ]
    },
    {
      "cell_type": "code",
      "execution_count": 23,
      "metadata": {},
      "outputs": [
        {
          "data": {
            "image/png": "[encoded data removed]",
            "text/plain": [
              "<Figure size 432x288 with 4 Axes>"
            ]
          },
          "metadata": {
            "needs_background": "light"
          },
          "output_type": "display_data"
        }
      ],
      "source": [
        "import numpy as np\n",
        "import torch.nn as nn\n",
        "def rotate(x: torch.Tensor, r: int) -> torch.Tensor:\n",
        "    # Method which implements the action of the group element `g` indexed by `r` on the input image `x`.\n",
        "    # The method returns the image `g.x`\n",
        "    # note that we rotate the last 2 dimensions of the input, since we want to later use this method to rotate minibatches containing multiple images\n",
        "    return x.rot90(r, dims=(-2, -1))\n",
        "\n",
        "\n",
        "def plot_rotated_kernel(kernel: torch.Tensor, r: int):\n",
        "    kernels = []\n",
        "    loop_kernel = kernel\n",
        "    fig, axs = plt.subplots(2, 2)\n",
        "\n",
        "    for i in range(r):\n",
        "        loop_kernel = torch.rot90(loop_kernel, k=1, dims=[2, 3])\n",
        "        kernels.append(loop_kernel)\n",
        "\n",
        "    for i in range(r):\n",
        "        row = i // 2\n",
        "        col = i % 2\n",
        "        axs[row, col].imshow(kernels[i][0][0].detach().cpu().numpy(), cmap='gray')\n",
        "        axs[row, col].set_title(f'{i * 90} degrees')\n",
        "        axs[row, col].axis('off')\n",
        "\n",
        "    plt.show()\n",
        "\n",
        "def text_plot_Example(x,r):\n",
        "    filter3x3 = torch.randn(1, 1, 3, 3)\n",
        "    print(filter3x3)\n",
        "    plt.imshow(filter3x3[0, 0].numpy())\n",
        "    plt.title('Filter')\n",
        "    plt.show()\n",
        "    gx = rotate(x, r)\n",
        "\n",
        "    psi_x = torch.conv2d(x, filter3x3, bias=None, padding=1)\n",
        "    psi_gx = torch.conv2d(gx, filter3x3, bias=None, padding=1)\n",
        "\n",
        "    g_psi_x = rotate(psi_x, r)\n",
        "\n",
        "    plt.imshow(g_psi_x[0, 0].numpy())\n",
        "    plt.title('$g.\\psi(x)$')\n",
        "    plt.show()\n",
        "\n",
        "    plt.imshow(psi_gx[0, 0].numpy())\n",
        "    plt.title('$\\psi(g.x)$')\n",
        "    plt.show()\n",
        "\n",
        "\n",
        "out_channels =1\n",
        "in_channels =3\n",
        "kernel_size =3\n",
        "x =  nn.Parameter(torch.Tensor(out_channels, in_channels, kernel_size, kernel_size))\n",
        "plot_rotated_kernel(x, 4)"
      ]
    },
    {
      "cell_type": "code",
      "execution_count": 24,
      "metadata": {},
      "outputs": [
        {
          "data": {
            "image/png": "[encoded data removed]",
            "text/plain": [
              "<Figure size 1440x360 with 5 Axes>"
            ]
          },
          "metadata": {
            "needs_background": "light"
          },
          "output_type": "display_data"
        }
      ],
      "source": [
        "x = torch.randn(1, 1, 33, 33)**2\n",
        "\n",
        "# Rotate x\n",
        "r = 1\n",
        "gx = rotate(x, r)\n",
        "\n",
        "# Define filter and convolutions\n",
        "filter3x3 = torch.randn(1, 1, 3, 3)\n",
        "psi_x = torch.conv2d(x, filter3x3, bias=None, padding=1)\n",
        "psi_gx = torch.conv2d(gx, filter3x3, bias=None, padding=1)\n",
        "g_psi_x = rotate(psi_x, r)\n",
        "\n",
        "# Plot all images in subplots\n",
        "fig, axs = plt.subplots(1, 5, figsize=(20, 5))\n",
        "\n",
        "# Plot original x\n",
        "axs[0].imshow(x[0, 0].numpy())\n",
        "axs[0].set_title('Original x')\n",
        "\n",
        "# Plot rotated x\n",
        "axs[1].imshow(gx[0, 0].numpy())\n",
        "axs[1].set_title('Rotated x')\n",
        "\n",
        "# Plot filter\n",
        "axs[2].imshow(filter3x3[0, 0].numpy())\n",
        "axs[2].set_title('Filter')\n",
        "\n",
        "# Plot g.psi(x)\n",
        "axs[3].imshow(g_psi_x[0, 0].numpy())\n",
        "axs[3].set_title('$g.\\psi(x)$')\n",
        "\n",
        "# Plot psi(g.x)\n",
        "axs[4].imshow(psi_gx[0, 0].numpy())\n",
        "axs[4].set_title('$\\psi(g.x)$')\n",
        "\n",
        "plt.show()\n"
      ]
    },
    {
      "attachments": {},
      "cell_type": "markdown",
      "metadata": {},
      "source": [
        "### Conclusion\n",
        "\n",
        "It is evident that even with a simple 90-degree rotation, we cannot directly relate the output of the original input with that of its rotated version. The only way to establish a relationship between the two is through a rotation operation.\n",
        "\n",
        "### Can we do better?\n",
        "\n",
        "First, lets created a rotation class with shared weights"
      ]
    },
    {
      "cell_type": "code",
      "execution_count": 25,
      "metadata": {},
      "outputs": [],
      "source": [
        "#defomd class rotation\n",
        "\n",
        "\n",
        "class rotaClass(nn.Module):\n",
        "    def __init__(self, in_channels, out_channels, kernel_size=3, std=0.01):\n",
        "        super(rotaClass, self).__init__()\n",
        "\n",
        "        self.kernel_size = kernel_size\n",
        "\n",
        "        # define shared weights using nn.Parameter\n",
        "        self.weight1 = nn.Parameter(torch.Tensor(out_channels, in_channels, kernel_size, kernel_size))\n",
        "        init.xavier_normal_(self.weight1)\n",
        "        self.bias1 = nn.Parameter(torch.zeros(out_channels), requires_grad=True)\n",
        "        assert self.weight1.shape == (out_channels, in_channels, kernel_size, kernel_size)\n",
        "\n",
        "        # define four convolution layers with rotated kernels\n",
        "        self.conv1 = nn.Conv2d(in_channels, out_channels, kernel_size=self.kernel_size, padding=1)\n",
        "        self.conv1.weight = nn.Parameter(self.weight1)\n",
        "        self.conv1.bias = nn.Parameter(self.bias1)\n",
        "\n",
        "        self.conv2 = nn.Conv2d(in_channels, out_channels, kernel_size=kernel_size, padding=1)\n",
        "        self.conv2.weight = nn.Parameter(\n",
        "            torch.rot90(self.weight1, k=1,\n",
        "                        dims=[2, 3]))  # dims=[2, 3] rotates the second the third dimention / Rotate 90\n",
        "        self.conv2.bias = nn.Parameter(self.bias1)\n",
        "\n",
        "        self.conv3 = nn.Conv2d(in_channels, out_channels, kernel_size=kernel_size, padding=1)\n",
        "        self.conv3.weight = nn.Parameter(\n",
        "            torch.rot90(self.weight1, k=2,\n",
        "                        dims=[2, 3]))  # dims=[2, 3] rotates the second the third dimention /Rotate 180\n",
        "\n",
        "        self.conv3.bias = nn.Parameter(self.bias1)\n",
        "\n",
        "        self.conv4 = nn.Conv2d(in_channels, out_channels, kernel_size=kernel_size, padding=1)\n",
        "        self.conv4.weight = nn.Parameter(\n",
        "            torch.rot90(self.weight1, k=3,\n",
        "                        dims=[2, 3]))  # dims=[2, 3] rotates the second the third dimention. /Rotate 270\n",
        "        self.conv4.bias = nn.Parameter(self.bias1)\n",
        "\n",
        "    def forward(self, x):\n",
        "        # apply four convolution layers separately\n",
        "        x1 = self.conv1(x)\n",
        "        x2 = self.conv2(x)\n",
        "        x3 = self.conv3(x)\n",
        "        x4 = self.conv4(x)\n",
        "\n",
        "        # stack outputs and perform max pooling over new dimension\n",
        "        x = torch.stack((x1, x2, x3, x4), dim=1)\n",
        "        x, _ = torch.max(x, dim=1, keepdim=True)\n",
        "        x = x.squeeze(dim=1)\n",
        "        return x\n",
        "    def plotWeights(self):\n",
        "        plot_rotated_kernel(self.weight1, 4)"
      ]
    },
    {
      "attachments": {},
      "cell_type": "markdown",
      "metadata": {},
      "source": [
        "### Model\n",
        "\n",
        "A neural network model for image categorization is called RotConvNet.  This model can extract a greater variety of information from input photos since it has many convolutional layers with rotated filters. In order to enhance performance and avoid overfitting, the model additionally makes use of batch normalization and dropout regularization. The final output is created by applying convolutional layers to the input image and then passing the result through numerous fully connected layers. A certain number of input channels must be provided for the model to function, and a certain number of output channels must be produced."
      ]
    },
    {
      "cell_type": "code",
      "execution_count": 26,
      "metadata": {},
      "outputs": [],
      "source": [
        "# Model\n",
        "\n",
        "class RotConvNet(nn.Module):\n",
        "    def __init__(self, in_channels, out_channels, kernel_size=3, std=0.01):\n",
        "        super(RotConvNet, self).__init__()\n",
        "\n",
        "        self.kernel_size = kernel_size\n",
        "        self.std = std\n",
        "        self.dropout0 = nn.Dropout(p=0.2)\n",
        "        self.dropout1 = nn.Dropout(p=0.3)\n",
        "        self.dropout2 = nn.Dropout(p=0.3)\n",
        "        self.dropout3 = nn.Dropout(p=0.3)\n",
        "\n",
        "        self.Rot_1 = rotaClass(in_channels, out_channels*5, 3, std)\n",
        "        self.BN_1 = nn.BatchNorm2d(out_channels*5)\n",
        "        self.Rot_2 = rotaClass(out_channels*5, out_channels*20, 3, std)\n",
        "        self.BN_2 = nn.BatchNorm2d(out_channels*20)\n",
        "        self.Rot_3 = rotaClass(out_channels*20, out_channels*10, 3, std)\n",
        "        self.BN_3 = nn.BatchNorm2d(out_channels*10)\n",
        "        self.Rot_4 = rotaClass(out_channels*10, out_channels*4, 3, std)\n",
        "        self.BN_4 = nn.BatchNorm2d(out_channels*4)\n",
        "        self.Rot_5 = rotaClass(out_channels*4, out_channels, 3, std)\n",
        "        self.BN_5 = nn.BatchNorm2d(out_channels)\n",
        "\n",
        "        self.FC = nn.Linear(out_channels * 32 * 32, out_channels*6)\n",
        "        self.FC1 = nn.Linear(out_channels*6 , out_channels)\n",
        "\n",
        "    def forward(self, x):\n",
        "        # apply four convolution layers separately\n",
        "\n",
        "        x =self.Rot_1(x)\n",
        "        x = nn.functional.relu(x)\n",
        "        x= self.dropout0(x)\n",
        "        x =self.Rot_2(x)\n",
        "        x =self.BN_2(x)\n",
        "        x = nn.functional.relu(x)\n",
        "        x = self.dropout1(x)\n",
        "        x =self.Rot_3(x)\n",
        "        x =self.BN_3(x)\n",
        "        x = nn.functional.relu(x)\n",
        "        x =self.Rot_4(x)\n",
        "        x = self.dropout3(x)\n",
        "        x = nn.functional.relu(x)\n",
        "        x =self.Rot_5(x)\n",
        "        x =self.BN_5(x)\n",
        "        x = nn.functional.relu(x)\n",
        "\n",
        "        x = torch.flatten(x, 1)\n",
        "\n",
        "        x = self.dropout1(x)\n",
        "        x = nn.functional.relu(self.FC(x))\n",
        "        x =nn.functional.relu(self.FC1(x))\n",
        "        return x, F.softmax(x, dim=1)\n",
        "    \n",
        "    def load_weights(self, path):\n",
        "        self.load_state_dict(torch.load(path))\n"
      ]
    },
    {
      "attachments": {},
      "cell_type": "markdown",
      "metadata": {},
      "source": [
        "### Lets observe how one weights look like\n",
        "\n",
        "This can be done simply via the function `plotWeights()` which is in each `self.Rot_i \\in [1,2,3,4,5]`"
      ]
    },
    {
      "cell_type": "code",
      "execution_count": null,
      "metadata": {},
      "outputs": [
        {
          "data": {
            "image/png": "[encoded data removed]",
            "text/plain": [
              "<Figure size 432x288 with 4 Axes>"
            ]
          },
          "metadata": {
            "needs_background": "light"
          },
          "output_type": "display_data"
        }
      ],
      "source": [
        "import torch.nn.init as init\n",
        "\n",
        "test_model = RotConvNet(in_channels=3, out_channels=10, kernel_size=3)\n",
        "test_model.to(device)\n",
        "\n",
        "test_model.Rot_1.plotWeights()\n"
      ]
    },
    {
      "cell_type": "code",
      "execution_count": 27,
      "metadata": {},
      "outputs": [
        {
          "name": "stdout",
          "output_type": "stream",
          "text": [
            "Files already downloaded and verified\n",
            "Finished Training\n"
          ]
        }
      ],
      "source": [
        "mp.set_start_method('spawn')\n",
        "\n",
        "batch_size = 35\n",
        "output_dim = 10\n",
        "Num_epoch = 75\n",
        "LR = 0.0002\n",
        "in_channels = 3\n",
        "out_channels = 10\n",
        "kernel_size = 3\n",
        "ratio_T_T = 0.7\n",
        "\n",
        "# Define transform to normalize the data\n",
        "transform = transforms.Compose(\n",
        "    [transforms.ToTensor(),\n",
        "        transforms.Normalize((0.5, 0.5, 0.5), (0.5, 0.5, 0.5))\n",
        "        ]\n",
        ")\n",
        "\n",
        "# Load CIFAR-10 dataset\n",
        "trainset = torchvision.datasets.CIFAR10(root='./data', train=True,\n",
        "                                        download=True, transform=transform)\n",
        "\n",
        "# Split dataset into training, validation, and test sets\n",
        "train_size = int(ratio_T_T * len(trainset))\n",
        "val_size = int((1.2-ratio_T_T)/2 * len(trainset))\n",
        "test_size = len(trainset) - train_size - val_size\n",
        "\n",
        "train_dataset, val_dataset, test_dataset = torch.utils.data.random_split(\n",
        "    trainset, [train_size, val_size, test_size])\n",
        "\n",
        "# Create data loaders for training, validation, and test sets\n",
        "trainloader = torch.utils.data.DataLoader(train_dataset, batch_size=batch_size,\n",
        "                                            shuffle=True, num_workers=2)\n",
        "valloader = torch.utils.data.DataLoader(val_dataset, batch_size=batch_size,\n",
        "                                        shuffle=True, num_workers=2)\n",
        "testloader = torch.utils.data.DataLoader(test_dataset, batch_size=batch_size,\n",
        "                                            shuffle=True, num_workers=2)\n",
        "\n",
        "# Define the model\n",
        "model = RotConvNet(in_channels=in_channels, out_channels=out_channels, kernel_size=in_channels)\n",
        "model.to(device)\n",
        "# Define the loss function and optimizer\n",
        "criterion = nn.CrossEntropyLoss()\n",
        "optimizer = optim.Adam(model.parameters(), lr=LR)\n",
        "\n",
        "train_losses = []\n",
        "train_accuracy = []\n",
        "val_losses_list = []\n",
        "val_accuracy_list = []\n",
        "Test_losses = []\n",
        "Test_accuracy = []\n",
        "noisypicsdisplay = []\n",
        "predictedNoisy = []\n",
        "\n",
        "best_accuracy = 0.0\n",
        "\n",
        "if TRAIN:\n",
        "    for epoch in range(Num_epoch):\n",
        "        running_loss = 0.0\n",
        "        T_correct = 0\n",
        "        correct = 0\n",
        "        total = 0\n",
        "\n",
        "        # Train\n",
        "        model.train()\n",
        "        for i, data in enumerate(tqdm(trainloader,desc=\"Epoch {}/{}\".format(epoch + 1, Num_epoch))):\n",
        "            # Get the inputs and labels\n",
        "            inputs, labels = data[0].to(device), data[1].to(device)\n",
        "\n",
        "            optimizer.zero_grad()\n",
        "            digits, outputs = model(inputs)\n",
        "            loss = criterion(digits, labels)\n",
        "            _, predicted = torch.max(outputs.data, 1)\n",
        "\n",
        "            loss.backward()\n",
        "            optimizer.step()\n",
        "\n",
        "            # Print statistics\n",
        "            running_loss += loss.item()\n",
        "            total += labels.size(0)\n",
        "            T_correct += (predicted == labels).sum().item()\n",
        "            if i % (1000-1) == 0 :\n",
        "                accuracy = 100 * T_correct / total\n",
        "                print('[%d, %5d] loss: %.3f, accuracy: %.2f %%' %\n",
        "                        (epoch + 1, i + 1, running_loss / len(trainloader), accuracy))\n",
        "\n",
        "        train_loss = running_loss / len(trainloader)\n",
        "        train_losses.append(train_loss)\n",
        "        train_accuracy.append(100 * T_correct / total)\n",
        "\n",
        "        model.eval()\n",
        "        val_loss = 0\n",
        "        total = 0\n",
        "        val_accuracy = 0\n",
        "        with torch.no_grad():\n",
        "            for data in tqdm(valloader):\n",
        "                inputs, labels = data[0].to(device), data[1].to(device)\n",
        "                total += labels.size(0)\n",
        "\n",
        "                outputs = model(inputs)[1]\n",
        "                val_loss += criterion(outputs, labels).item()\n",
        "                _, predicted = torch.max(outputs.data, 1)\n",
        "                val_accuracy += (predicted == labels).sum().item()\n",
        "\n",
        "            val_loss /= len(valloader)\n",
        "\n",
        "            val_losses_list.append(val_loss)\n",
        "            val_accuracy_list.append(100 * val_accuracy / total)\n",
        "\n",
        "\n",
        "        print('Test Accuracy of the model on the 10000 test images: {:.4f} %'.format(100 * val_accuracy / total))\n",
        "\n",
        "        # Evaluation\n",
        "        model.eval()\n",
        "        test_loss = 0\n",
        "        correct = 0\n",
        "        total = 0\n",
        "        correct_noisy = 0\n",
        "        total_noisy = 0\n",
        "        with torch.no_grad():\n",
        "            for data in tqdm(testloader):\n",
        "                inputs, labels = data[0].to(device), data[1].to(device)\n",
        "\n",
        "                outputs = model(inputs)[1]\n",
        "                test_loss += criterion(outputs, labels).item()\n",
        "                _, predicted = torch.max(outputs.data, 1)\n",
        "                total += labels.size(0)\n",
        "                correct += (predicted == labels).sum().item()\n",
        "\n",
        "                outputs_Noisy = model(inputs)[1]\n",
        "                test_loss += criterion(outputs_Noisy, labels).item()\n",
        "                _, predicted_noisy = torch.max(outputs_Noisy.data, 1)\n",
        "                total_noisy += labels.size(0)\n",
        "                correct_noisy += (predicted_noisy == labels).sum().item()\n",
        "\n",
        "            test_loss /= len(testloader)\n",
        "            Test_losses.append(test_loss)\n",
        "            Test_accuracy.append(100 * correct_noisy / total)\n",
        "\n",
        "            if epoch % 3 == 0:\n",
        "                noisypicsdisplay.append(inputs[0, 0, :, :])\n",
        "                predictedNoisy.append(predicted_noisy[0])\n",
        "\n",
        "            print('Test Accuracy of the model on the 10000 test images: {:.4f} %'.format( 100*correct / total))\n",
        "\n",
        "        # Save model parameters if the current accuracy is better than the best one so far\n",
        "        current_accuracy = 100 * correct / total\n",
        "        if current_accuracy > best_accuracy:\n",
        "            print(\"Parameters Mode Updated\")\n",
        "            best_accuracy = current_accuracy\n",
        "            torch.save(model.state_dict(), \"best_model.pth\")\n",
        "\n",
        "\n",
        "\n",
        "    # Plot the training and validation loss/accuracy after each epoch\n",
        "    fig, (ax1, ax2) = plt.subplots(1, 2, figsize=(10, 5))\n",
        "\n",
        "    ax1.plot(train_losses, label=\"Training Loss\")\n",
        "    ax1.plot(val_losses_list, label=\"Validation Loss\")\n",
        "    #  ax1.plot(Test_losses, label=\"Test Loss\")\n",
        "\n",
        "    ax1.set_title(\"Loss\")\n",
        "    ax1.set_xlabel(\"Epoch\")\n",
        "    ax1.set_ylabel(\"Loss\")\n",
        "    ax1.legend()\n",
        "\n",
        "    ax2.plot(train_accuracy, label=\"Training Accuracy\")\n",
        "    ax2.plot(val_accuracy_list, label=\"Validation Accuracy\")\n",
        "    #  ax2.plot(Test_accuracy, label=\"Test Accuracy\")\n",
        "    ax2.set_title(\"Accuracy\")\n",
        "    ax2.set_xlabel(\"Epoch\")\n",
        "    ax2.set_ylabel(\"Accuracy\")\n",
        "    ax2.legend()\n",
        "\n",
        "    plt.tight_layout()\n",
        "\n",
        "    # Save the plot to a file\n",
        "    plt.savefig(f\"epoch_{epoch+1}.png\")\n",
        "    plt.close()\n",
        "\n",
        "print('Finished Training')"
      ]
    },
    {
      "attachments": {},
      "cell_type": "markdown",
      "metadata": {},
      "source": [
        "## Result\n",
        "\n",
        "### Training visualisation\n",
        "\n",
        "For the training loop, I use a `learning rate= 0.0002`, `Num_epoch = 20` and `batchsize = batch_size`.\n",
        "\n",
        "![<caption>](outputvisu.png) \n",
        "\n",
        "The model's accuracy could certainly be increased, as the pace of progress begins to decline at 73%. Overfitting is a regular occurrence that causes this. I am still happy with the outcomes, though, given the main goal of this research was to investigate `GCNN` rather than create the best model.\n",
        "It makes sense to infer that if we kept training the model longer, overfitting would start to increase the validation loss once more. The model grows more specialized and may struggle to generalize successfully to new, untried data as it keeps learning and changing its parameters to better fit the training data.\n",
        "\n",
        "### Lets see.... what and why I even started with is. How does it perform when we rotating the image :)\n",
        "\n",
        "\n"
      ]
    },
    {
      "attachments": {},
      "cell_type": "markdown",
      "metadata": {},
      "source": [
        "### Reflection\n",
        "\n",
        "This model offers a number of advantages that help it perform well when used for image processing jobs. The usage of rotated kernels, which enables the model to capture a larger variety of information in the input image, is one of its main advantages. To do this, rotate the filters by 90 degrees in order to extract various features.\n",
        "Weight sharing, which minimizes the number of parameters and speeds up training by using less memory, is another advantage of the model. By normalizing the output of the previous layer and minimizing the internal covariate shift, the usage of batch normalization layers also aids in improving the model's convergence.\n",
        "The model's performance on some tasks is, however, constrained by a few flaws. For example, the model might not be successful on tasks that call for the detection of extremely abstract or complicated aspects in images, as the rotated kernels might not be able to adequately capture such features. Also, it appears that the model overfits based on the outcome. Although this may have been avoided or adjusted by raising the dropout rate or using other strategies, it was sufficient for this experiment."
      ]
    },
    {
      "cell_type": "code",
      "execution_count": 28,
      "metadata": {},
      "outputs": [],
      "source": [
        "if  TRAIN:\n",
        "    # Load model\n",
        "    model = RotConvNet(in_channels, out_channels, kernel_size)\n",
        "    model.load_weights(\"best_model.pth\")\n",
        "    model.eval()\n",
        "\n"
      ]
    },
    {
      "attachments": {},
      "cell_type": "markdown",
      "metadata": {},
      "source": [
        "| <img src=\"correct_.png\"> | <img src=\"Incorrect_.png\"> |\n",
        "|:---:|:---:|\n",
        "| *Correct Classification* | *Incorrect Classification* |"
      ]
    },
    {
      "attachments": {},
      "cell_type": "markdown",
      "metadata": {},
      "source": [
        "### Lets dig a little deeper! \n",
        "Lets observe two things, whether the output of `(1,10)` is rotational invariant, and if the model predicts the same result no matter the rotation of the input.\n",
        "For this, I constructed a simple loop over the test set"
      ]
    },
    {
      "cell_type": "code",
      "execution_count": 29,
      "metadata": {},
      "outputs": [],
      "source": [
        "# if you want to run it\n",
        "RUN= False\n",
        "\n",
        "if RUN:\n",
        "\n",
        " # Initialize lists to store correct and incorrect predictions\n",
        "    correct_predictions = []\n",
        "    incorrect_predictions = []\n",
        "\n",
        "    # Loop through the test data and make predictions\n",
        "    with torch.no_grad():\n",
        "        for data in tqdm(testloader):\n",
        "            inputs, labels = data[0].to(device), data[1].to(device)\n",
        "\n",
        "            outputs = model(inputs)[1]\n",
        "            _, predicted = torch.max(outputs.data, 1)\n",
        "            correct_mask = (predicted == labels)\n",
        "\n",
        "            # Append correct predictions to the correct_predictions list\n",
        "            for i in range(len(labels)):\n",
        "                if correct_mask[i]:\n",
        "                    if len(correct_predictions) < 10:\n",
        "                        correct_predictions.append((inputs[i], predicted[i], labels[i]))\n",
        "\n",
        "            # Append incorrect predictions to the incorrect_predictions list\n",
        "            for i in range(len(labels)):\n",
        "                if not correct_mask[i]:\n",
        "                    if len(incorrect_predictions) < 10:\n",
        "                        incorrect_predictions.append((inputs[i], predicted[i], labels[i]))\n",
        "\n",
        "    # Plot the correct predictions\n",
        "    fig, axs = plt.subplots(2, 5, figsize=(13, 8))\n",
        "    fig.suptitle('Correct Predictions')\n",
        "    for i, (image, predicted_label, true_label) in enumerate(correct_predictions):\n",
        "        row = i // 5\n",
        "        col = i % 5\n",
        "        axs[row, col].imshow(np.transpose(image.cpu().numpy(), (1, 2, 0)))\n",
        "        axs[row, col].set_title(f'Predicted: {predicted_label}, True: {true_label}')\n",
        "        axs[row, col].axis('off')\n",
        "\n",
        "    fig, axs = plt.subplots(5, 5, figsize=(13, 8))\n",
        "    fig.suptitle('Correct Classification-Rotated Images')\n",
        "    amount_of_pics = 5\n",
        "    for i, (image, predicted_label, true_label) in enumerate(correct_predictions[:amount_of_pics]):\n",
        "        for j in range(4):\n",
        "            axs[i, 0].imshow(np.transpose(image.cpu().numpy(), (1, 2, 0)))\n",
        "            rotated_image = rotate(image, j )\n",
        "            output_field, output = model((rotated_image.unsqueeze(0)))\n",
        "            _, predicted = torch.max(output.data, 1)\n",
        "            output_field = output_field.squeeze(0)\n",
        "            row = i\n",
        "            col = j+1\n",
        "            axs[row, col].imshow(output_field.cpu().detach().numpy().reshape(2, 5))\n",
        "            if(row==0):\n",
        "                axs[0, col].set_title(f'Field Rotation: {j * 90} deg.\\nPredicted: {predicted.item()}, True: {true_label}')\n",
        "            else:\n",
        "                axs[row, col].set_title(\n",
        "                    f'Predicted: {predicted.item()}, True: {true_label}')\n",
        "            axs[row, col].axis('off')\n",
        "\n",
        "    fig, axs = plt.subplots(5, 5, figsize=(13, 8))\n",
        "    fig.suptitle('Incorrect Classification-Rotated Images')\n",
        "    for i, (image, predicted_label, true_label) in enumerate(incorrect_predictions[:amount_of_pics]):\n",
        "        for j in range(4):\n",
        "            axs[i, 0].imshow(np.transpose(image.cpu().numpy(), (1, 2, 0)))\n",
        "            rotated_image = rotate(image, j )\n",
        "            output_field, output = model((rotated_image.unsqueeze(0)))\n",
        "            _, predicted = torch.max(output.data, 1)\n",
        "\n",
        "            output_field = output_field.squeeze(0)\n",
        "            row = i\n",
        "            col = j+1\n",
        "            axs[row, col].imshow(output_field.cpu().detach().numpy().reshape(2, 5))\n",
        "            if(row==0):\n",
        "                axs[0, col].set_title(f'Field Rotation: {j * 90} deg.\\nPredicted: {predicted.item()}, True: {true_label}')\n",
        "            else:\n",
        "                axs[row, col].set_title(\n",
        "                    f'Predicted: {predicted.item()}, True: {true_label}')\n",
        "\n",
        "            axs[row, col].axis('off')\n",
        "\n",
        "    # Plot the incorrect predictions\n",
        "    fig, axs = plt.subplots(2, 5, figsize=(10, 5))\n",
        "    fig.suptitle('Incorrect Predictions')\n",
        "    for i, (image, predicted_label, true_label) in enumerate(incorrect_predictions):\n",
        "        row = i // 5\n",
        "        col = i % 5\n",
        "        axs[row, col].imshow(np.transpose(image.cpu().numpy(), (1, 2, 0)))\n",
        "        axs[row, col].set_title(f'Predicted: {predicted_label}, True: {true_label}')\n",
        "        axs[row, col].axis('off')\n",
        "\n",
        "    plt.show()"
      ]
    },
    {
      "attachments": {},
      "cell_type": "markdown",
      "metadata": {},
      "source": [
        "### Result\n",
        "\n",
        "I studied how my model responded to input photographs that had been rotated. I did this by plotting the output for each of the four potential \"90*j\" rotations for both correct and incorrect classifications. It's important to note that I used the (1,10) output, despite its small dimension, as the activation field for this analysis.\n",
        "\n",
        "\n",
        "\n",
        "| <img src=\"correct_class_rot.png\"> | <img src=\"incorrect_class_rot.png\"> |\n",
        "|:---:|:---:|\n",
        "| *Correct Classification* | *Incorrect Classification* |\n",
        "\n",
        "There are two key conclusions that can be drawn from the two plots. First, regardless of whether the classification was accurate or inaccurate, it was found that rotating the input image had an impact on both the output activation field and the model's predictions. Remarkably, the model's predictions were more accurate when the input image was a little bit darker than usual. Also, it was discovered that when the image was rotated, the model frequently misidentified some classes, including `2` and `0` which have sharper edges. \n",
        "\n",
        "![<caption>](closeUP_12.jpg)\n",
        "\n",
        "\n",
        "It was a fascinating observation, as it became evident why this mistake arose upon closer investigation. Yet, it is also clear that the output's activation field did not match up via a group rotation operation, failing to meet the equivariant condition.\n",
        "\n",
        "There are several potential reasons for this subpar performance, but I think the most logical one is that the model isn't complex enough and that it needs further training. Despite these outcomes, I still think this project was successful because I enjoyed this challenge quite a bit!"
      ]
    },
    {
      "attachments": {},
      "cell_type": "markdown",
      "metadata": {},
      "source": [
        "### Thank you\n",
        "Idan Grady"
      ]
    }
  ],
  "metadata": {
    "accelerator": "GPU",
    "colab": {
      "provenance": []
    },
    "gpuClass": "standard",
    "kernelspec": {
      "display_name": "Python 3",
      "language": "python",
      "name": "python3"
    },
    "language_info": {
      "codemirror_mode": {
        "name": "ipython",
        "version": 3
      },
      "file_extension": ".py",
      "mimetype": "text/x-python",
      "name": "python",
      "nbconvert_exporter": "python",
      "pygments_lexer": "ipython3",
      "version": "3.7.11"
    },
    "vscode": {
      "interpreter": {
        "hash": "2469a70536e4d2335a2ea8907942d0699c37342a371ac185bdb5b0aa6f073890"
      }
    }
  },
  "nbformat": 4,
  "nbformat_minor": 0
}
